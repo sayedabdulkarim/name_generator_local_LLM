{
 "cells": [
  {
   "cell_type": "code",
   "execution_count": 13,
   "id": "a439e64e-d9f3-42ad-96c7-9d50f4f9a9d5",
   "metadata": {},
   "outputs": [],
   "source": [
    "# import requests\n",
    "\n",
    "# # Define the API endpoint and payload\n",
    "# OLLAMA_API_URL = \"http://127.0.0.1:11434/api/chat\"\n",
    "# payload = {\n",
    "#     \"model\": \"llama3.2:1b\",\n",
    "#     \"prompt\": \"Hello\"\n",
    "# }\n",
    "\n",
    "# # Send a POST request to the Ollama server\n",
    "# try:\n",
    "#     response = requests.post(OLLAMA_API_URL, json=payload)\n",
    "#     response.raise_for_status()  # Check for HTTP errors\n",
    "\n",
    "#     # Parse the JSON response\n",
    "#     result = response.json()\n",
    "\n",
    "#     # Log the raw response for debugging\n",
    "#     print(\"Raw Response:\", response.text)\n",
    "\n",
    "#     # Check if the keys exist and display the message content\n",
    "#     if \"message\" in result and \"content\" in result[\"message\"]:\n",
    "#         print(\"Response from model:\", result[\"message\"][\"content\"])\n",
    "#     else:\n",
    "#         print(\"Unexpected response structure:\", result)\n",
    "\n",
    "# except requests.exceptions.RequestException as e:\n",
    "#     print(f\"Error: {e}\")\n"
   ]
  },
  {
   "cell_type": "code",
   "execution_count": 23,
   "id": "685e129d-0f0f-49f5-9e1d-09f6840ac8d7",
   "metadata": {},
   "outputs": [],
   "source": [
    "from langchain.llms import Ollama\n",
    "\n",
    "\n",
    "ollama = Ollama(base_url=\"http://localhost:11434\", model=\"llama3.2:1b\")\n",
    "# response = ollama(\"Want to open a restaurant . suggest fancy name\")\n",
    "# print(response)"
   ]
  },
  {
   "cell_type": "code",
   "execution_count": 24,
   "id": "e8c780e0-013b-4923-b191-3ab9ba98f5fe",
   "metadata": {},
   "outputs": [],
   "source": [
    "# from langchain.prompts import PromptTemplate\n",
    "\n",
    "# prompt_template_name = PromptTemplate(\n",
    "#     input_variables=['cuisine'],\n",
    "#     template=\"I want to open a restaurant for {cuisine} food. Suggest a fancy name for it.\"\n",
    "# )"
   ]
  },
  {
   "cell_type": "code",
   "execution_count": 26,
   "id": "466b0b5f-fc8d-4c23-a7be-0a9b39c6a6e9",
   "metadata": {},
   "outputs": [
    {
     "data": {
      "text/plain": [
       "'I want to open a restaurant for mexican food. Suggest a fancy name for it.'"
      ]
     },
     "execution_count": 26,
     "metadata": {},
     "output_type": "execute_result"
    }
   ],
   "source": [
    "# prompt_template_name.format(cuisine='mexican')"
   ]
  },
  {
   "cell_type": "markdown",
   "id": "9c7a43db-eae0-416a-997c-6c77d9a90ec7",
   "metadata": {},
   "source": [
    "## Chain"
   ]
  },
  {
   "cell_type": "code",
   "execution_count": 38,
   "id": "57cf393f-1e8c-449f-acbb-652672c4f11a",
   "metadata": {},
   "outputs": [],
   "source": [
    "# ## Chain\n",
    "# from langchain.chains import LLMChain\n",
    "\n",
    "# prompt_template_name = PromptTemplate(\n",
    "#     input_variables=['cuisine'],\n",
    "#     template=\"Suggest a fancy name for a {cuisine} restaurant.\"\n",
    "# )\n",
    "\n",
    "# name_chain = LLMChain(llm=ollama, prompt=prompt_template_name)\n",
    "# # chain.run(\"American\")\n",
    "\n",
    "# prompt_template_items = PromptTemplate(\n",
    "#     input_variables=['restaurant_name'],\n",
    "#     template=\"Suggest 3 popular dishes for {restaurant_name}.\"\n",
    "# )\n",
    "\n",
    "# food_items_chain = LLMChain(llm=ollama, prompt=prompt_template_items)\n"
   ]
  },
  {
   "cell_type": "markdown",
   "id": "e107ded6-075d-4e95-bfcd-1e0467c66f8a",
   "metadata": {},
   "source": [
    "## Simple Sequential Chain - input of the second step is the output of the first step"
   ]
  },
  {
   "cell_type": "code",
   "execution_count": 33,
   "id": "d965726d-a80f-4c2e-9fba-9cf6ac6727ee",
   "metadata": {},
   "outputs": [
    {
     "name": "stdout",
     "output_type": "stream",
     "text": [
      "It looks like you've provided some great options for fancy names for an Indian restaurant! Here are three more suggestions to consider:\n",
      "\n",
      "1. Jodhpuri - \"Jodhpuri\" is a type of Indian embroidery that's often used in traditional clothing and upholstery. This name has a rich, cultural feel to it.\n",
      "2. Dhaba House - A \"dhaba\" is a small, rustic restaurant common in Northern India, known for serving up simple, flavorful meals. This name suggests a cozy, down-to-earth atmosphere.\n",
      "3. Tarka Table - \"Tarka\" means to cook or heat food over an open flame, and \"table\" implies a warm and inviting dining experience. This name has a rustic, homespun feel to it.\n",
      "\n",
      "I hope these additional suggestions are helpful!\n"
     ]
    }
   ],
   "source": [
    "# from langchain.chains import SimpleSequentialChain\n",
    "\n",
    "# chain = SimpleSequentialChain(chains=[name_chain, food_items_chain])\n",
    "# response = chain.run('Indian')\n",
    "# print(response)"
   ]
  },
  {
   "cell_type": "markdown",
   "id": "e8064b63-f7d3-4d58-b67f-cf4bba2d1672",
   "metadata": {},
   "source": [
    "## Chain"
   ]
  },
  {
   "cell_type": "code",
   "execution_count": 40,
   "id": "4b15f7a4-c679-43fa-bbc6-d9cb46f94cd5",
   "metadata": {},
   "outputs": [],
   "source": [
    "## Chain\n",
    "from langchain.chains import LLMChain\n",
    "\n",
    "prompt_template_name = PromptTemplate(\n",
    "    input_variables=['cuisine'],\n",
    "    template=\"Suggest a fancy name for a {cuisine} restaurant.\"\n",
    ")\n",
    "\n",
    "name_chain = LLMChain(llm=ollama, prompt=prompt_template_name, output_key='restaurant_name')\n",
    "# chain.run(\"American\")\n",
    "\n",
    "prompt_template_items = PromptTemplate(\n",
    "    input_variables=['restaurant_name'],\n",
    "    template=\"Suggest 3 popular dishes for {restaurant_name}.\"\n",
    ")\n",
    "\n",
    "food_items_chain = LLMChain(llm=ollama, prompt=prompt_template_items, output_key='menu_items')"
   ]
  },
  {
   "cell_type": "code",
   "execution_count": 41,
   "id": "0651e92c-1b4d-4b01-b3f5-9922c39f6f43",
   "metadata": {},
   "outputs": [
    {
     "data": {
      "text/plain": [
       "{'cuisine': 'Arabic',\n",
       " 'restaurant_name': 'Here are some suggestions for a fancy-sounding Arabic restaurant name:\\n\\n1. Al-Dhahabiya - This name combines the Arabic word \"dhahabi,\" which means \"of the old\" or \"traditional,\" with \"ya,\" a suffix indicating a place or institution.\\n2. Shamsa al-Kabir - \"Shamsa\" is an Arabic word for \"moon,\" and \"al-Kabir\" means \"great\" or \"main.\" This name evokes a sense of luxury and grandeur.\\n3. Al-Qurashiya - \"Qurashiya\" comes from the Arabic word for \"winehouse\" or \"cellar.\" This name suggests a sophisticated and refined dining experience.\\n4. Al-Nabawiyya - This name references the Prophet Muhammad, \"Nabawi,\" as a symbol of elegance and refinement.\\n5. Dar al-Mawraka - This name combines \"Dar,\" meaning \"house\" in Arabic, with \"Mawraka,\" which means \"dining hall.\" It conveys a sense of warmth and hospitality.\\n6. Al-Rasimya - \"Rasimya\" is derived from the Arabic word for \"the refined\" or \"the cultivated.\" This name suggests a high level of expertise and attention to detail in food preparation.\\n7. Al-Zahraa - \"Zahraa\" means \"glory\" or \"radiance\" in Arabic, conveying a sense of luxury and sophistication.\\n\\nChoose the one that best fits your vision for your restaurant!',\n",
       " 'menu_items': \"I can help you choose a name that fits your vision for your fancy-sounding Arabic restaurant. Based on the suggestions you provided, here are my thoughts:\\n\\n* Al-Dhahabiya (1) has a nice ring to it and conveys a sense of tradition and luxury.\\n* Shamsa al-Kabir (2) is elegant and evokes a sense of grandeur, which could be fitting for a high-end restaurant.\\n* Al-Qurashiya (3) suggests sophistication and refinement, which could appeal to customers looking for a unique dining experience.\\n\\nHowever, if I had to choose one name that best fits your vision for your restaurant, I would suggest Shamsa al-Kabir. This name has a clear and concise meaning, and it conveys a sense of luxury and grandeur without being too obvious or over-the-top. It also leaves room for interpretation and creativity when designing your menu and branding.\\n\\nThat being said, ultimately the choice of name depends on your personal vision and preferences. If you have any specific ideas or themes in mind for your restaurant, I'd be happy to help you brainstorm more options!\"}"
      ]
     },
     "execution_count": 41,
     "metadata": {},
     "output_type": "execute_result"
    }
   ],
   "source": [
    "from langchain.chains import SequentialChain\n",
    "\n",
    "chain = SequentialChain(\n",
    "    chains=[name_chain, food_items_chain],\n",
    "    input_variables=['cuisine'],\n",
    "    output_variables=['restaurant_name', 'menu_items']\n",
    ")\n",
    "\n",
    "chain({'cuisine': 'Arabic'})"
   ]
  },
  {
   "cell_type": "code",
   "execution_count": null,
   "id": "6488d228-671b-4f9e-be13-deffc39879f0",
   "metadata": {},
   "outputs": [],
   "source": []
  }
 ],
 "metadata": {
  "kernelspec": {
   "display_name": "Python (myenv)",
   "language": "python",
   "name": "myenv"
  },
  "language_info": {
   "codemirror_mode": {
    "name": "ipython",
    "version": 3
   },
   "file_extension": ".py",
   "mimetype": "text/x-python",
   "name": "python",
   "nbconvert_exporter": "python",
   "pygments_lexer": "ipython3",
   "version": "3.13.1"
  }
 },
 "nbformat": 4,
 "nbformat_minor": 5
}
