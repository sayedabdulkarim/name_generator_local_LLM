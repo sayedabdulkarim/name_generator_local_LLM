{
 "cells": [
  {
   "cell_type": "code",
   "execution_count": 13,
   "id": "a439e64e-d9f3-42ad-96c7-9d50f4f9a9d5",
   "metadata": {},
   "outputs": [],
   "source": [
    "# import requests\n",
    "\n",
    "# # Define the API endpoint and payload\n",
    "# OLLAMA_API_URL = \"http://127.0.0.1:11434/api/chat\"\n",
    "# payload = {\n",
    "#     \"model\": \"llama3.2:1b\",\n",
    "#     \"prompt\": \"Hello\"\n",
    "# }\n",
    "\n",
    "# # Send a POST request to the Ollama server\n",
    "# try:\n",
    "#     response = requests.post(OLLAMA_API_URL, json=payload)\n",
    "#     response.raise_for_status()  # Check for HTTP errors\n",
    "\n",
    "#     # Parse the JSON response\n",
    "#     result = response.json()\n",
    "\n",
    "#     # Log the raw response for debugging\n",
    "#     print(\"Raw Response:\", response.text)\n",
    "\n",
    "#     # Check if the keys exist and display the message content\n",
    "#     if \"message\" in result and \"content\" in result[\"message\"]:\n",
    "#         print(\"Response from model:\", result[\"message\"][\"content\"])\n",
    "#     else:\n",
    "#         print(\"Unexpected response structure:\", result)\n",
    "\n",
    "# except requests.exceptions.RequestException as e:\n",
    "#     print(f\"Error: {e}\")\n"
   ]
  },
  {
   "cell_type": "code",
   "execution_count": 22,
   "id": "685e129d-0f0f-49f5-9e1d-09f6840ac8d7",
   "metadata": {},
   "outputs": [
    {
     "name": "stdout",
     "output_type": "stream",
     "text": [
      "Here are some fancy name suggestions for your restaurant:\n",
      "\n",
      "1. **Brioche & Co.**: A luxurious name that evokes high-end cuisine and fine dining.\n",
      "2. **Le Relais de Rêve**: A French-inspired name that suggests a whimsical, indulgent experience.\n",
      "3. **The Gilded Table**: A sophisticated name that implies opulence and refinement.\n",
      "4. **Casa della Vita**: Italian for \"House of Life,\" this name conveys warmth, hospitality, and a passion for good food.\n",
      "5. **Le Coeur de la Nuit**: French for \"The Heart of the Night,\" this name suggests a romantic, seductive atmosphere.\n",
      "6. **La Maison du Jour**: French for \"The House of Today,\" this name implies freshness, quality, and a commitment to excellence.\n",
      "7. **La Bouffe Royale**: A playful name that combines French flair with a hint of royalty.\n",
      "8. **Sotto il Cielo**: Italian for \"Under the Sky,\" this name suggests a light, airy atmosphere and a focus on seasonal ingredients.\n",
      "9. **Le Restaurant des Rêves**: French for \"The Restaurant of Dreams,\" this name implies a place where customers can escape into their own fantasies.\n",
      "10. **Osteria alla Vita**: Italian for \"Restaurant of Life,\" this name conveys a sense of warmth, hospitality, and a passion for good food.\n",
      "\n",
      "Which one of these fancy names catches your eye?\n"
     ]
    }
   ],
   "source": [
    "from langchain.llms import Ollama\n",
    "\n",
    "\n",
    "ollama = Ollama(base_url=\"http://localhost:11434\", model=\"llama3.2:1b\")\n",
    "response = ollama(\"Want to open a restaurant . suggest fancy name\")\n",
    "print(response)"
   ]
  },
  {
   "cell_type": "code",
   "execution_count": null,
   "id": "e8c780e0-013b-4923-b191-3ab9ba98f5fe",
   "metadata": {},
   "outputs": [],
   "source": []
  }
 ],
 "metadata": {
  "kernelspec": {
   "display_name": "Python (myenv)",
   "language": "python",
   "name": "myenv"
  },
  "language_info": {
   "codemirror_mode": {
    "name": "ipython",
    "version": 3
   },
   "file_extension": ".py",
   "mimetype": "text/x-python",
   "name": "python",
   "nbconvert_exporter": "python",
   "pygments_lexer": "ipython3",
   "version": "3.13.1"
  }
 },
 "nbformat": 4,
 "nbformat_minor": 5
}
