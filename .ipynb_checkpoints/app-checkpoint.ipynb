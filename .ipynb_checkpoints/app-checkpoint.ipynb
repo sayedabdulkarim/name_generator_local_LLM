{
 "cells": [
  {
   "cell_type": "code",
   "execution_count": 13,
   "id": "a439e64e-d9f3-42ad-96c7-9d50f4f9a9d5",
   "metadata": {},
   "outputs": [],
   "source": [
    "# import requests\n",
    "\n",
    "# # Define the API endpoint and payload\n",
    "# OLLAMA_API_URL = \"http://127.0.0.1:11434/api/chat\"\n",
    "# payload = {\n",
    "#     \"model\": \"llama3.2:1b\",\n",
    "#     \"prompt\": \"Hello\"\n",
    "# }\n",
    "\n",
    "# # Send a POST request to the Ollama server\n",
    "# try:\n",
    "#     response = requests.post(OLLAMA_API_URL, json=payload)\n",
    "#     response.raise_for_status()  # Check for HTTP errors\n",
    "\n",
    "#     # Parse the JSON response\n",
    "#     result = response.json()\n",
    "\n",
    "#     # Log the raw response for debugging\n",
    "#     print(\"Raw Response:\", response.text)\n",
    "\n",
    "#     # Check if the keys exist and display the message content\n",
    "#     if \"message\" in result and \"content\" in result[\"message\"]:\n",
    "#         print(\"Response from model:\", result[\"message\"][\"content\"])\n",
    "#     else:\n",
    "#         print(\"Unexpected response structure:\", result)\n",
    "\n",
    "# except requests.exceptions.RequestException as e:\n",
    "#     print(f\"Error: {e}\")\n"
   ]
  },
  {
   "cell_type": "code",
   "execution_count": 23,
   "id": "685e129d-0f0f-49f5-9e1d-09f6840ac8d7",
   "metadata": {},
   "outputs": [],
   "source": [
    "from langchain.llms import Ollama\n",
    "\n",
    "\n",
    "ollama = Ollama(base_url=\"http://localhost:11434\", model=\"llama3.2:1b\")\n",
    "# response = ollama(\"Want to open a restaurant . suggest fancy name\")\n",
    "# print(response)"
   ]
  },
  {
   "cell_type": "code",
   "execution_count": 24,
   "id": "e8c780e0-013b-4923-b191-3ab9ba98f5fe",
   "metadata": {},
   "outputs": [],
   "source": [
    "from langchain.prompts import PromptTemplate\n",
    "\n",
    "prompt_template_name = PromptTemplate(\n",
    "    input_variables=['cuisine'],\n",
    "    template=\"I want to open a restaurant for {cuisine} food. Suggest a fancy name for it.\"\n",
    ")"
   ]
  },
  {
   "cell_type": "code",
   "execution_count": 26,
   "id": "466b0b5f-fc8d-4c23-a7be-0a9b39c6a6e9",
   "metadata": {},
   "outputs": [
    {
     "data": {
      "text/plain": [
       "'I want to open a restaurant for mexican food. Suggest a fancy name for it.'"
      ]
     },
     "execution_count": 26,
     "metadata": {},
     "output_type": "execute_result"
    }
   ],
   "source": [
    "prompt_template_name.format(cuisine='mexican')"
   ]
  },
  {
   "cell_type": "markdown",
   "id": "9c7a43db-eae0-416a-997c-6c77d9a90ec7",
   "metadata": {},
   "source": [
    "## Chain"
   ]
  },
  {
   "cell_type": "code",
   "execution_count": 27,
   "id": "57cf393f-1e8c-449f-acbb-652672c4f11a",
   "metadata": {},
   "outputs": [
    {
     "data": {
      "text/plain": [
       "\"Here are some fancy name suggestions for your American food restaurant:\\n\\n1. **Haven & Hearth**: This name evokes a warm and welcoming atmosphere, perfect for an American cuisine restaurant.\\n2. **Liberty Bites**: A nod to the American spirit of freedom and delicious food, this name is sure to attract customers.\\n3. **The American Table**: Simple and straightforward, this name tells customers exactly what they can expect from your restaurant.\\n4. **Prairie & Oak**: This name combines a sense of rustic simplicity with a hint of sophistication, suggesting a high-quality dining experience.\\n5. **Rise & Roast**: This name plays off the idea of American comfort food and the cooking process that goes into creating delicious meals.\\n6. **The Main Street Eatery**: This name has a charming, small-town feel to it, suggesting a cozy and inviting atmosphere.\\n7. **Taste Quest**: This name suggests adventure and exploration, perfect for an American cuisine restaurant that offers something new and exciting every day.\\n8. **The Fireside Kitchen**: This name conjures up images of warm hospitality and good food, making customers feel right at home.\\n9. **Bourbon & Biscuit**: For a more sophisticated take on American cuisine, consider this name, which combines the richness of bourbon with the warmth of biscuits.\\n10. **Gather 'Round**: This name invites customers to come together and enjoy delicious food in a welcoming atmosphere.\\n\\nWhich one do you like best?\""
      ]
     },
     "execution_count": 27,
     "metadata": {},
     "output_type": "execute_result"
    }
   ],
   "source": [
    "from langchain.chains import LLMChain\n",
    "\n",
    "chain = LLMChain(llm=ollama, prompt=prompt_template_name)\n",
    "chain.run(\"American\")\n"
   ]
  },
  {
   "cell_type": "code",
   "execution_count": null,
   "id": "62082a4a-e270-486c-a257-25a74adf0a66",
   "metadata": {},
   "outputs": [],
   "source": []
  }
 ],
 "metadata": {
  "kernelspec": {
   "display_name": "Python (myenv)",
   "language": "python",
   "name": "myenv"
  },
  "language_info": {
   "codemirror_mode": {
    "name": "ipython",
    "version": 3
   },
   "file_extension": ".py",
   "mimetype": "text/x-python",
   "name": "python",
   "nbconvert_exporter": "python",
   "pygments_lexer": "ipython3",
   "version": "3.13.1"
  }
 },
 "nbformat": 4,
 "nbformat_minor": 5
}
