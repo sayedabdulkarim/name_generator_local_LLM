{
 "cells": [
  {
   "cell_type": "code",
   "execution_count": 13,
   "id": "a439e64e-d9f3-42ad-96c7-9d50f4f9a9d5",
   "metadata": {},
   "outputs": [],
   "source": [
    "# import requests\n",
    "\n",
    "# # Define the API endpoint and payload\n",
    "# OLLAMA_API_URL = \"http://127.0.0.1:11434/api/chat\"\n",
    "# payload = {\n",
    "#     \"model\": \"llama3.2:1b\",\n",
    "#     \"prompt\": \"Hello\"\n",
    "# }\n",
    "\n",
    "# # Send a POST request to the Ollama server\n",
    "# try:\n",
    "#     response = requests.post(OLLAMA_API_URL, json=payload)\n",
    "#     response.raise_for_status()  # Check for HTTP errors\n",
    "\n",
    "#     # Parse the JSON response\n",
    "#     result = response.json()\n",
    "\n",
    "#     # Log the raw response for debugging\n",
    "#     print(\"Raw Response:\", response.text)\n",
    "\n",
    "#     # Check if the keys exist and display the message content\n",
    "#     if \"message\" in result and \"content\" in result[\"message\"]:\n",
    "#         print(\"Response from model:\", result[\"message\"][\"content\"])\n",
    "#     else:\n",
    "#         print(\"Unexpected response structure:\", result)\n",
    "\n",
    "# except requests.exceptions.RequestException as e:\n",
    "#     print(f\"Error: {e}\")\n"
   ]
  },
  {
   "cell_type": "code",
   "execution_count": 23,
   "id": "685e129d-0f0f-49f5-9e1d-09f6840ac8d7",
   "metadata": {},
   "outputs": [],
   "source": [
    "from langchain.llms import Ollama\n",
    "\n",
    "\n",
    "ollama = Ollama(base_url=\"http://localhost:11434\", model=\"llama3.2:1b\")\n",
    "# response = ollama(\"Want to open a restaurant . suggest fancy name\")\n",
    "# print(response)"
   ]
  },
  {
   "cell_type": "code",
   "execution_count": 24,
   "id": "e8c780e0-013b-4923-b191-3ab9ba98f5fe",
   "metadata": {},
   "outputs": [],
   "source": [
    "# from langchain.prompts import PromptTemplate\n",
    "\n",
    "# prompt_template_name = PromptTemplate(\n",
    "#     input_variables=['cuisine'],\n",
    "#     template=\"I want to open a restaurant for {cuisine} food. Suggest a fancy name for it.\"\n",
    "# )"
   ]
  },
  {
   "cell_type": "code",
   "execution_count": 26,
   "id": "466b0b5f-fc8d-4c23-a7be-0a9b39c6a6e9",
   "metadata": {},
   "outputs": [
    {
     "data": {
      "text/plain": [
       "'I want to open a restaurant for mexican food. Suggest a fancy name for it.'"
      ]
     },
     "execution_count": 26,
     "metadata": {},
     "output_type": "execute_result"
    }
   ],
   "source": [
    "# prompt_template_name.format(cuisine='mexican')"
   ]
  },
  {
   "cell_type": "markdown",
   "id": "9c7a43db-eae0-416a-997c-6c77d9a90ec7",
   "metadata": {},
   "source": [
    "## Chain & Sequential Chain"
   ]
  },
  {
   "cell_type": "code",
   "execution_count": 32,
   "id": "57cf393f-1e8c-449f-acbb-652672c4f11a",
   "metadata": {},
   "outputs": [],
   "source": [
    "## Chain\n",
    "from langchain.chains import LLMChain\n",
    "\n",
    "prompt_template_name = PromptTemplate(\n",
    "    input_variables=['cuisine'],\n",
    "    template=\"Suggest a fancy name for a {cuisine} restaurant.\"\n",
    ")\n",
    "\n",
    "name_chain = LLMChain(llm=ollama, prompt=prompt_template_name)\n",
    "# chain.run(\"American\")\n",
    "\n",
    "prompt_template_items = PromptTemplate(\n",
    "    input_variables=['restaurant_name'],\n",
    "    template=\"Suggest 3 popular dishes for {restaurant_name}.\"\n",
    ")\n",
    "\n",
    "food_items_chain = LLMChain(llm=ollama, prompt=prompt_template_items)\n"
   ]
  },
  {
   "cell_type": "markdown",
   "id": "e107ded6-075d-4e95-bfcd-1e0467c66f8a",
   "metadata": {},
   "source": [
    "## Sequential Chain - input of the second step is the output of the first step"
   ]
  },
  {
   "cell_type": "code",
   "execution_count": 33,
   "id": "d965726d-a80f-4c2e-9fba-9cf6ac6727ee",
   "metadata": {},
   "outputs": [
    {
     "name": "stdout",
     "output_type": "stream",
     "text": [
      "It looks like you've provided some great options for fancy names for an Indian restaurant! Here are three more suggestions to consider:\n",
      "\n",
      "1. Jodhpuri - \"Jodhpuri\" is a type of Indian embroidery that's often used in traditional clothing and upholstery. This name has a rich, cultural feel to it.\n",
      "2. Dhaba House - A \"dhaba\" is a small, rustic restaurant common in Northern India, known for serving up simple, flavorful meals. This name suggests a cozy, down-to-earth atmosphere.\n",
      "3. Tarka Table - \"Tarka\" means to cook or heat food over an open flame, and \"table\" implies a warm and inviting dining experience. This name has a rustic, homespun feel to it.\n",
      "\n",
      "I hope these additional suggestions are helpful!\n"
     ]
    }
   ],
   "source": [
    "# from langchain.chains import SimpleSequentialChain\n",
    "\n",
    "# chain = SimpleSequentialChain(chains=[name_chain, food_items_chain])\n",
    "# response = chain.run('Indian')\n",
    "# print(response)"
   ]
  },
  {
   "cell_type": "code",
   "execution_count": null,
   "id": "8f691dd9-6481-429d-9475-2329da54ed88",
   "metadata": {},
   "outputs": [],
   "source": []
  }
 ],
 "metadata": {
  "kernelspec": {
   "display_name": "Python (myenv)",
   "language": "python",
   "name": "myenv"
  },
  "language_info": {
   "codemirror_mode": {
    "name": "ipython",
    "version": 3
   },
   "file_extension": ".py",
   "mimetype": "text/x-python",
   "name": "python",
   "nbconvert_exporter": "python",
   "pygments_lexer": "ipython3",
   "version": "3.13.1"
  }
 },
 "nbformat": 4,
 "nbformat_minor": 5
}
